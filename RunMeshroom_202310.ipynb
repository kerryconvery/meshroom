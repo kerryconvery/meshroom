{
  "nbformat": 4,
  "nbformat_minor": 0,
  "metadata": {
    "colab": {
      "provenance": []
    },
    "kernelspec": {
      "name": "python3",
      "display_name": "Python 3"
    },
    "accelerator": "TPU",
    "gpuClass": "standard"
  },
  "cells": [
    {
      "cell_type": "markdown",
      "metadata": {
        "id": "tJUlZN4TRnCH"
      },
      "source": [
        "This notebook is based off of [Abe Nelson's](https://github.com/abnlsn) MeshroomColab [notebook](https://github.com/abnlsn/colab-notebooks/blob/master/RunMeshroom.ipynb).\n",
        "\n",
        "If you need help getting started you should read [this doc](https://github.com/alicevision/meshroom/wiki/Meshroom-in-Google-Colab-(cloud)) and check out [Abe's YouTube](https://bit.ly/ab3dchannel) and [his GitHub](https://github.com/ab3-dev)."
      ]
    },
    {
      "cell_type": "markdown",
      "metadata": {
        "id": "RD3eZSm6d6NZ"
      },
      "source": [
        "#Setup\n",
        "Add paths for:\n",
        "1.   The full path and filename of the meshroom package located in your google drive that you want to use\n",
        "2.   Optionally, the full path and file name of the mg file you want to use.\n",
        "3.   The path to the images you want to use\n",
        "4.   The path to the output folder  you want to use.  This will be deleted and recreated upon runn the Meshing script so becareful not to set it to a path you want to keep\n",
        "\n",
        "You can use sample data instead of setting the image path and ouput. You will need to mount your Google Drive and run the first step (see section below) before downloading meshroom\n"
      ]
    },
    {
      "cell_type": "code",
      "metadata": {
        "id": "Ol5uQcZkLvA3"
      },
      "source": [
        "meshroom_package = \"\" #@param {type:\"string\"}\n",
        "meshroom_mg = \"\" #@param {type:\"string\"}\n",
        "image_folder_path = \"\" #@param {type:\"string\"}\n",
        "output_path = \"\" #@param {type:\"string\"}\n",
        "use_sample_data = False #@param {type:\"boolean\"}\n"
      ],
      "execution_count": 2,
      "outputs": []
    },
    {
      "cell_type": "markdown",
      "metadata": {
        "id": "RsxzdzwtPVCA"
      },
      "source": [
        "Download Meshroom and sample data(if needed)."
      ]
    },
    {
      "cell_type": "code",
      "metadata": {
        "id": "cQgXdvk-qUvi"
      },
      "source": [
        "if use_sample_data:\n",
        "  !git clone https://github.com/alicevision/dataset_buddha\n",
        "  image_folder_path = './dataset_buddha/buddha'\n",
        "  output_path = './buddha_out'\n",
        "\n",
        "%rm -rf meshroom\n",
        "!mkdir meshroom\n",
        "!tar xzf '{meshroom_package}' -C ./meshroom"
      ],
      "execution_count": 3,
      "outputs": []
    },
    {
      "cell_type": "markdown",
      "metadata": {
        "id": "zTI6AlUXd-_M"
      },
      "source": [
        "#Google Drive\n",
        "Connect to Google Drive, so that you can import and export files from there.\n"
      ]
    },
    {
      "cell_type": "code",
      "metadata": {
        "id": "2wodsIcpYbDR"
      },
      "source": [
        "from google.colab import drive\n",
        "drive.mount('/content/drive')"
      ],
      "execution_count": null,
      "outputs": []
    },
    {
      "cell_type": "markdown",
      "metadata": {
        "id": "xA_XKpKqdoqb"
      },
      "source": [
        "#Meshing\n",
        "Use the form in setup to specify an input and output path, or check sample data to try it out."
      ]
    },
    {
      "cell_type": "code",
      "metadata": {
        "id": "AZWyk461sxGI"
      },
      "source": [
        "%rm -rf '{output_path}'\n",
        "!mkdir '{output_path}'\n",
        "if meshroom_mg != \"\":\n",
        "  !./meshroom/Meshroom-2023.1.0-av3.0.0-centos7-cuda11.3.1/meshroom_compute --forceCompute '{meshroom_mg}'\n",
        "!./meshroom/Meshroom-2023.1.0-av3.0.0-centos7-cuda11.3.1/meshroom_batch --input '{image_folder_path}' --output '{output_path}'\n"
      ],
      "execution_count": null,
      "outputs": []
    },
    {
      "cell_type": "markdown",
      "metadata": {
        "id": "7wwo3nPyd0-w"
      },
      "source": [
        "#Download\n",
        "Now simply download the output folder from Google Drive!"
      ]
    }
  ]
}